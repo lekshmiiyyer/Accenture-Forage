{
  "nbformat": 4,
  "nbformat_minor": 0,
  "metadata": {
    "colab": {
      "provenance": []
    },
    "kernelspec": {
      "name": "python3",
      "display_name": "Python 3"
    },
    "language_info": {
      "name": "python"
    }
  },
  "cells": [
    {
      "cell_type": "markdown",
      "source": [
        "#cleaning"
      ],
      "metadata": {
        "id": "69KXRc75IcsS"
      }
    },
    {
      "cell_type": "code",
      "execution_count": null,
      "metadata": {
        "id": "MWuKpjbH0IGh"
      },
      "outputs": [],
      "source": [
        "import pandas as pd"
      ]
    },
    {
      "cell_type": "code",
      "source": [
        "content_df=pd.read_csv('Content.csv')\n",
        "reaction_types_df=pd.read_csv('ReactionTypes.csv')\n",
        "reactions_df=pd.read_csv('Reactions.csv')\n"
      ],
      "metadata": {
        "id": "RccQEv270Pmf"
      },
      "execution_count": null,
      "outputs": []
    },
    {
      "cell_type": "code",
      "source": [
        "content_df.dropna(how='all', inplace=True)\n",
        "reaction_types_df.dropna(how='all', inplace=True)\n",
        "reactions_df.dropna(how='all', inplace=True)\n",
        "content_df = content_df.drop(columns=['User ID', 'URL'])\n",
        "reactions_df = reactions_df.drop(columns=['User ID'])"
      ],
      "metadata": {
        "id": "MzZPNLvbBS47"
      },
      "execution_count": null,
      "outputs": []
    },
    {
      "cell_type": "code",
      "source": [
        "# Iterate through each value in the 'Category' column and remove double quotes\n",
        "content_df = content_df.rename(columns={'Type': 'Content Type'})\n",
        "content_df['Category'] = content_df['Category'].apply(lambda x: x.replace('\"', '') if isinstance(x, str) else x)\n",
        "# content_df.to_excel('cleaned_content_data.xlsx', index=False)"
      ],
      "metadata": {
        "id": "mwSshPxq8Yek"
      },
      "execution_count": null,
      "outputs": []
    },
    {
      "cell_type": "code",
      "source": [
        "# Filter out rows with blank values in the \"Type\" attribute\n",
        "reactions_df = reactions_df[reactions_df['Type'].notna()]"
      ],
      "metadata": {
        "id": "Trb7TBEVBvIi"
      },
      "execution_count": null,
      "outputs": []
    },
    {
      "cell_type": "code",
      "source": [
        "content_df.to_excel('cleaned_content_data.xlsx', index=False)\n",
        "reaction_types_df.to_excel('cleaned_reaction_types_data.xlsx', index=False)\n",
        "reactions_df.to_excel('cleaned_reactions_data.xlsx', index=False)"
      ],
      "metadata": {
        "id": "sl3V73f5FrnR"
      },
      "execution_count": null,
      "outputs": []
    },
    {
      "cell_type": "markdown",
      "source": [
        "#modelling"
      ],
      "metadata": {
        "id": "AnszgZRwIY37"
      }
    },
    {
      "cell_type": "markdown",
      "source": [
        "done using excel"
      ],
      "metadata": {
        "id": "0Zp-MJOvLi7E"
      }
    }
  ]
}